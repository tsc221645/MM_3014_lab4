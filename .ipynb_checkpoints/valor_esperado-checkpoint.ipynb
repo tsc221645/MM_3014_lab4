{
 "cells": [
  {
   "cell_type": "markdown",
   "metadata": {},
   "source": [
    "# Laboratorio 4 - Valor Esperado"
   ]
  },
  {
   "cell_type": "markdown",
   "metadata": {},
   "source": [
    "### Grupo 1 "
   ]
  },
  {
   "cell_type": "markdown",
   "metadata": {},
   "source": [
    "1. Encuentre el valor esperado y la varianza de una variable aleatoria con Poisson con parametro $\\lambda = 1/2$, utilizando Python el comando E y el comando variance. Determine el valor esperado y la varianza de esta variable aleatoria, utilizando la función generadora de momentos y Python"
   ]
  },
  {
   "cell_type": "code",
   "execution_count": 3,
   "metadata": {},
   "outputs": [
    {
     "name": "stdout",
     "output_type": "stream",
     "text": [
      "Valor esperado E[X]= 1/2\n"
     ]
    }
   ],
   "source": [
    "import sympy as sp\n",
    "from sympy.stats import Poisson, E, variance\n",
    "lambda_val = sp.Rational(1, 2)\n",
    "#POisson variable\n",
    "X = Poisson(\"X\", lambda_val)\n",
    "#Valor esperado\n",
    "E_X = E(X)\n",
    "print(\"Valor esperado E[X]=\",E_X)"
   ]
  },
  {
   "cell_type": "code",
   "execution_count": null,
   "metadata": {},
   "outputs": [],
   "source": []
  },
  {
   "cell_type": "markdown",
   "metadata": {},
   "source": [
    "2. Encuentre el primer momento y segundo momento de la variable aleatoria exponencial con parámetro $\\beta = 5$, usando python, el comando E y el comando variance. Asimismo determine el primer momento y el segundo momento, usando la función generadora de momentos y Python."
   ]
  },
  {
   "cell_type": "code",
   "execution_count": null,
   "metadata": {},
   "outputs": [],
   "source": []
  },
  {
   "cell_type": "code",
   "execution_count": null,
   "metadata": {},
   "outputs": [],
   "source": []
  }
 ],
 "metadata": {
  "kernelspec": {
   "display_name": "Python 3 (ipykernel)",
   "language": "python",
   "name": "python3"
  },
  "language_info": {
   "codemirror_mode": {
    "name": "ipython",
    "version": 3
   },
   "file_extension": ".py",
   "mimetype": "text/x-python",
   "name": "python",
   "nbconvert_exporter": "python",
   "pygments_lexer": "ipython3",
   "version": "3.12.7"
  }
 },
 "nbformat": 4,
 "nbformat_minor": 4
}
