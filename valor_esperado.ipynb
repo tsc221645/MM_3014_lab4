{
 "cells": [
  {
   "cell_type": "markdown",
   "metadata": {},
   "source": [
    "# Laboratorio 4 - Valor Esperado"
   ]
  },
  {
   "cell_type": "markdown",
   "metadata": {},
   "source": [
    "### Grupo 1 "
   ]
  },
  {
   "cell_type": "markdown",
   "metadata": {},
   "source": [
    "1. Encuentre el valor esperado y la varianza de una variable aleatoria con Poisson con parametro $\\lambda = 1/2$, utilizando Python el comando E y el comando variance. Determine el valor esperado y la varianza de esta variable aleatoria, utilizando la función generadora de momentos y Python"
   ]
  },
  {
   "cell_type": "code",
   "execution_count": 3,
   "metadata": {},
   "outputs": [
    {
     "name": "stdout",
     "output_type": "stream",
     "text": [
      "Valor esperado E[X]= 1/2\n"
     ]
    }
   ],
   "source": [
    "import sympy as sp\n",
    "from sympy.stats import Poisson, E, variance\n",
    "lambda_val = sp.Rational(1, 2)\n",
    "#POisson variable\n",
    "X = Poisson(\"X\", lambda_val)\n",
    "#Valor esperado\n",
    "E_X = E(X)\n",
    "print(\"Valor esperado E[X]=\",E_X)"
   ]
  },
  {
   "cell_type": "code",
   "execution_count": null,
   "metadata": {},
   "outputs": [],
   "source": []
  },
  {
   "cell_type": "markdown",
   "metadata": {},
   "source": [
    "2. Encuentre el primer momento y segundo momento de la variable aleatoria exponencial con parámetro $\\beta = 5$, usando python, el comando E y el comando variance. Asimismo determine el primer momento y el segundo momento, usando la función generadora de momentos y Python."
   ]
  },
  {
   "cell_type": "code",
   "execution_count": 1,
   "metadata": {},
   "outputs": [
    {
     "name": "stdout",
     "output_type": "stream",
     "text": [
      "Primer momento (E[X]): 5.00000000000000\n",
      "Segundo momento (E[X^2]): 50.0000000000000\n",
      "Varianza (Var[X]): 25.0000000000000\n",
      "Primer momento usando MGF (M1): 5\n",
      "Segundo momento usando MGF (M2): 50\n"
     ]
    }
   ],
   "source": [
    "import sympy as sp\n",
    "\n",
    "# Definir variables\n",
    "beta = 5\n",
    "x = sp.Symbol(\"x\", positive=True)\n",
    "\n",
    "t = sp.Symbol(\"t\")  # Variable para la función generadora de momentos (MGF)\n",
    "MGF = 1 / (1 - beta * t)  # MGF de la exponencial\n",
    "\n",
    "# Función de densidad de probabilidad (PDF)\n",
    "pdf = (1/beta) * sp.exp(-x/beta)\n",
    "\n",
    "# Calcular primer momento (esperanza E[X])\n",
    "E_X = sp.integrate(x * pdf, (x, 0, sp.oo))\n",
    "\n",
    "# Calcular segundo momento E[X^2]\n",
    "E_X2 = sp.integrate(x**2 * pdf, (x, 0, sp.oo))\n",
    "\n",
    "# Calcular varianza manualmente\n",
    "Var_X = E_X2 - E_X**2\n",
    "\n",
    "# Calcular momentos usando la función generadora de momentos (MGF)\n",
    "M1 = sp.diff(MGF, t).subs(t, 0)  # E[X]\n",
    "M2 = sp.diff(MGF, t, 2).subs(t, 0)  # E[X^2]\n",
    "\n",
    "# Mostrar resultados\n",
    "print(\"Primer momento (E[X]):\", E_X)\n",
    "print(\"Segundo momento (E[X^2]):\", E_X2)\n",
    "print(\"Varianza (Var[X]):\", Var_X)\n",
    "print(\"Primer momento usando MGF (M1):\", M1)\n",
    "print(\"Segundo momento usando MGF (M2):\", M2)"
   ]
  },
  {
   "cell_type": "code",
   "execution_count": null,
   "metadata": {},
   "outputs": [],
   "source": []
  }
 ],
 "metadata": {
  "kernelspec": {
   "display_name": "Python 3",
   "language": "python",
   "name": "python3"
  },
  "language_info": {
   "codemirror_mode": {
    "name": "ipython",
    "version": 3
   },
   "file_extension": ".py",
   "mimetype": "text/x-python",
   "name": "python",
   "nbconvert_exporter": "python",
   "pygments_lexer": "ipython3",
   "version": "3.11.1"
  }
 },
 "nbformat": 4,
 "nbformat_minor": 4
}
